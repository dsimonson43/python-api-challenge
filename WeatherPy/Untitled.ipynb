{
 "cells": [
  {
   "cell_type": "code",
   "execution_count": 2,
   "id": "8102f265-6003-4702-a830-5c6173403be7",
   "metadata": {},
   "outputs": [],
   "source": [
    "import pandas as pd\n",
    "import numpy as np\n",
    "import matplotlib.pyplot as plt\n",
    "import requests\n",
    "from scipy.stats import linregress\n",
    "from citipy import citipy"
   ]
  },
  {
   "cell_type": "code",
   "execution_count": 5,
   "id": "3d5dddea-0bf4-4221-8c4f-62c66239a913",
   "metadata": {},
   "outputs": [
    {
     "ename": "SyntaxError",
     "evalue": "invalid syntax. Perhaps you forgot a comma? (115940749.py, line 1)",
     "output_type": "error",
     "traceback": [
      "\u001b[1;36m  Cell \u001b[1;32mIn[5], line 1\u001b[1;36m\u001b[0m\n\u001b[1;33m    latitudes = np.random.uniform(-90.0, 90.0, size 1000)\u001b[0m\n\u001b[1;37m                                               ^\u001b[0m\n\u001b[1;31mSyntaxError\u001b[0m\u001b[1;31m:\u001b[0m invalid syntax. Perhaps you forgot a comma?\n"
     ]
    }
   ],
   "source": [
    "latitudes = np.random.uniform(-90.0, 90.0, size 1000)\n",
    "longitudes = np.random.uniform(-180.0, 180.0, size 1000)\n",
    "coordinates = list(zip(lats, longs))"
   ]
  },
  {
   "cell_type": "code",
   "execution_count": 7,
   "id": "216a1949-4237-4cc5-b75f-ef47148d6622",
   "metadata": {},
   "outputs": [
    {
     "ename": "SyntaxError",
     "evalue": "invalid syntax (1136078630.py, line 1)",
     "output_type": "error",
     "traceback": [
      "\u001b[1;36m  Cell \u001b[1;32mIn[7], line 1\u001b[1;36m\u001b[0m\n\u001b[1;33m    cities []\u001b[0m\n\u001b[1;37m            ^\u001b[0m\n\u001b[1;31mSyntaxError\u001b[0m\u001b[1;31m:\u001b[0m invalid syntax\n"
     ]
    }
   ],
   "source": [
    "cities = []\n",
    "for coord in coordinates:\n",
    "    city = citipy.nearest_city(coord[0], coord[1]).city_name\n",
    "    if city not in cities:\n",
    "        cities.append(city)\n",
    "print(f\"Number of unique cities: {len(cities)}\")"
   ]
  },
  {
   "cell_type": "code",
   "execution_count": 9,
   "id": "b8e8294e-dccd-4dca-ad8f-8d7a2a6a203b",
   "metadata": {},
   "outputs": [
    {
     "ename": "SyntaxError",
     "evalue": "unterminated string literal (detected at line 14) (3103421194.py, line 14)",
     "output_type": "error",
     "traceback": [
      "\u001b[1;36m  Cell \u001b[1;32mIn[9], line 14\u001b[1;36m\u001b[0m\n\u001b[1;33m    \"Humidity\": response[\"main\"][\"humidity'],\u001b[0m\n\u001b[1;37m                                 ^\u001b[0m\n\u001b[1;31mSyntaxError\u001b[0m\u001b[1;31m:\u001b[0m unterminated string literal (detected at line 14)\n"
     ]
    }
   ],
   "source": [
    "api_key = \"03adca2f6512df846c9891582da3c30b\"\n",
    "url = \"http://api.openweathermap.org/data/2.5/weather\"\n",
    "weather_Data = []\n",
    "\n",
    "for city in cities:\n",
    "    try:\n",
    "        parameters = {\"q\": city, \"appid\": api_key, \"units\": \"metric\"}\n",
    "        response = requests.get(url, parameters=parameters).json()\n",
    "        weather_data.append({\n",
    "            \"City\": city,\n",
    "            \"Lat\": response[\"coord\"][\"lat\"],\n",
    "            \"Lng\": response[\"coord\"][\"lon\"],\n",
    "            \"Max Temp\": response[\"main\"][\"temp_max\"],\n",
    "            \"Humidity\": response[\"main\"][\"humidity'],\n",
    "            \"Cloudiness\": resonse[\"clouds\"][\"all\"],\n",
    "            \"Country\": response[\"sys\"][\"country\"],\n",
    "            \"Wind Speed\": response[\"wind\"][\"speed\"],\n",
    "            \"Date\": response[\"dt\"]\n",
    "        })\n",
    "    except KeyError:\n",
    "        print(f\"City not found. SKipping: {city}\")\n",
    "\n",
    "city_data_df = pd.DataFrame(weather_Data)\n",
    "print(city_data_df.head())\n",
    "\n",
    "city_data_df.to_csv(\"city_weather_data.csv\", index=False)\n",
    "        '"
   ]
  },
  {
   "cell_type": "code",
   "execution_count": null,
   "id": "fea2d0cb-5447-4f76-9403-8d502a1fb904",
   "metadata": {},
   "outputs": [],
   "source": []
  },
  {
   "cell_type": "code",
   "execution_count": 14,
   "id": "6da04774-5d4f-4636-b17b-6f31fc3de334",
   "metadata": {},
   "outputs": [
    {
     "ename": "NameError",
     "evalue": "name 's' is not defined",
     "output_type": "error",
     "traceback": [
      "\u001b[1;31m---------------------------------------------------------------------------\u001b[0m",
      "\u001b[1;31mNameError\u001b[0m                                 Traceback (most recent call last)",
      "Cell \u001b[1;32mIn[14], line 1\u001b[0m\n\u001b[1;32m----> 1\u001b[0m s\n",
      "\u001b[1;31mNameError\u001b[0m: name 's' is not defined"
     ]
    }
   ],
   "source": [
    "\n"
   ]
  },
  {
   "cell_type": "code",
   "execution_count": null,
   "id": "8d7da490-439f-4cde-af1d-bd0c3725eb60",
   "metadata": {},
   "outputs": [],
   "source": []
  }
 ],
 "metadata": {
  "kernelspec": {
   "display_name": "Python 3 (ipykernel)",
   "language": "python",
   "name": "python3"
  },
  "language_info": {
   "codemirror_mode": {
    "name": "ipython",
    "version": 3
   },
   "file_extension": ".py",
   "mimetype": "text/x-python",
   "name": "python",
   "nbconvert_exporter": "python",
   "pygments_lexer": "ipython3",
   "version": "3.12.4"
  }
 },
 "nbformat": 4,
 "nbformat_minor": 5
}
